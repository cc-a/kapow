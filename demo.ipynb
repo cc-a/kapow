{
 "cells": [
  {
   "cell_type": "markdown",
   "metadata": {},
   "source": [
    "**This notebook has been written to provide an overview of the kapow module and compare its usage to the standard openmm python library.**\n",
    "We start by importing the required modules."
   ]
  },
  {
   "cell_type": "code",
   "execution_count": 1,
   "metadata": {},
   "outputs": [],
   "source": [
    "import kapow\n",
    "from simtk import openmm"
   ]
  },
  {
   "cell_type": "markdown",
   "metadata": {},
   "source": [
    "The openmm module is the standard python library shipped with the OpenMM simulation suite. The kapow module is provided by this package. Superficially the two should look more or less the same. For every class in openmm there is an equivalent class in kapow. **The kapow module aims to be an alternative interface to all of OpenMM's functionality.**  Lets take a closer look at how the modules interact with one another by creating a class instance. In openmm:"
   ]
  },
  {
   "cell_type": "code",
   "execution_count": 2,
   "metadata": {},
   "outputs": [],
   "source": [
    "onbf = openmm.NonbondedForce()"
   ]
  },
  {
   "cell_type": "markdown",
   "metadata": {},
   "source": [
    "we can then wrap this object with a kapow object:"
   ]
  },
  {
   "cell_type": "code",
   "execution_count": 3,
   "metadata": {},
   "outputs": [],
   "source": [
    "knbf = kapow.NonbondedForce.Wrap(onbf)"
   ]
  },
  {
   "cell_type": "markdown",
   "metadata": {},
   "source": [
    "The call to kapow.NonbondedForce.Wrap creates an instance that provides a different interface to the openmm instance. Any changes made to knbf will be reflect in knbf and vice versa. From the kapow instance you can access the original openmm instance as the wrapped_object attribute:"
   ]
  },
  {
   "cell_type": "code",
   "execution_count": 4,
   "metadata": {},
   "outputs": [],
   "source": [
    "assert knbf.wrapped_object is onbf"
   ]
  },
  {
   "cell_type": "markdown",
   "metadata": {},
   "source": [
    "Instead of doing this in two separate steps you can also call kapow.NonbondedForce() which will create a new openmm instance to wrap automatically. I've prefixed each of the instances with k and o for kapow and openmm respectively to distinguish between the two. To expose the differences lets look at how the attributes of these two differ. Ignoring magic methods:"
   ]
  },
  {
   "cell_type": "code",
   "execution_count": 5,
   "metadata": {},
   "outputs": [
    {
     "name": "stdout",
     "output_type": "stream",
     "text": [
      "Module - OpenMM\n",
      "CutoffNonPeriodic\n",
      "CutoffPeriodic\n",
      "Ewald\n",
      "LJPME\n",
      "NoCutoff\n",
      "PME\n",
      "addException\n",
      "addException_usingRMin\n",
      "addParticle\n",
      "addParticle_usingRVdw\n",
      "createExceptionsFromBonds\n",
      "getCutoffDistance\n",
      "getEwaldErrorTolerance\n",
      "getExceptionParameters\n",
      "getForceGroup\n",
      "getLJPMEParameters\n",
      "getLJPMEParametersInContext\n",
      "getNonbondedMethod\n",
      "getNumExceptions\n",
      "getNumParticles\n",
      "getPMEParameters\n",
      "getPMEParametersInContext\n",
      "getParticleParameters\n",
      "getReactionFieldDielectric\n",
      "getReciprocalSpaceForceGroup\n",
      "getSwitchingDistance\n",
      "getUseDispersionCorrection\n",
      "getUseSwitchingFunction\n",
      "setCutoffDistance\n",
      "setEwaldErrorTolerance\n",
      "setExceptionParameters\n",
      "setForceGroup\n",
      "setLJPMEParameters\n",
      "setNonbondedMethod\n",
      "setPMEParameters\n",
      "setParticleParameters\n",
      "setReactionFieldDielectric\n",
      "setReciprocalSpaceForceGroup\n",
      "setSwitchingDistance\n",
      "setUseDispersionCorrection\n",
      "setUseSwitchingFunction\n",
      "this\n",
      "updateParametersInContext\n",
      "usesPeriodicBoundaryConditions\n",
      "\n",
      "Module - Kapow\n",
      "CutoffNonPeriodic\n",
      "CutoffPeriodic\n",
      "Ewald\n",
      "LJPME\n",
      "LJPMEParameters\n",
      "NoCutoff\n",
      "PME\n",
      "PMEParameters\n",
      "Wrap\n",
      "addException_usingRMin\n",
      "addParticle_usingRVdw\n",
      "createExceptionsFromBonds\n",
      "cutoffDistance\n",
      "ewaldErrorTolerance\n",
      "exceptions\n",
      "forceGroup\n",
      "getLJPMEParametersInContext\n",
      "getPMEParametersInContext\n",
      "nonbondedMethod\n",
      "particles\n",
      "reactionFieldDielectric\n",
      "reciprocalSpaceForceGroup\n",
      "switchingDistance\n",
      "updateParametersInContext\n",
      "useDispersionCorrection\n",
      "useSwitchingFunction\n",
      "usesPeriodicBoundaryConditions\n",
      "wrapped_object\n"
     ]
    }
   ],
   "source": [
    "print('Module - OpenMM')\n",
    "for attr in dir(onbf):\n",
    "    if not attr.startswith('_'):\n",
    "        print(attr)\n",
    "\n",
    "print('\\nModule - Kapow')\n",
    "for attr in dir(knbf):\n",
    "    if not attr.startswith('_'):\n",
    "        print(attr)"
   ]
  },
  {
   "cell_type": "markdown",
   "metadata": {},
   "source": [
    "Notice the pattern? The kapow class has far fewer attributes, it also doesn't have any attributes that begin with get or set. Instead for every quantity controlled by a get and set attribute in openmm there is a single attribute in kapow. As a simple example, for the potential cutoff distance the openmm instance uses:"
   ]
  },
  {
   "cell_type": "code",
   "execution_count": 6,
   "metadata": {},
   "outputs": [
    {
     "name": "stdout",
     "output_type": "stream",
     "text": [
      "cutoff 1.0 nm\n",
      "cutoff 0.8 nm\n"
     ]
    }
   ],
   "source": [
    "print('cutoff', onbf.getCutoffDistance())\n",
    "onbf.setCutoffDistance(0.8)\n",
    "print('cutoff', onbf.getCutoffDistance())"
   ]
  },
  {
   "cell_type": "markdown",
   "metadata": {},
   "source": [
    "Whilst the kapow instance uses:"
   ]
  },
  {
   "cell_type": "code",
   "execution_count": 7,
   "metadata": {},
   "outputs": [
    {
     "name": "stdout",
     "output_type": "stream",
     "text": [
      "cutoff 0.8 nm\n",
      "cutoff 1.0 nm\n"
     ]
    }
   ],
   "source": [
    "print('cutoff', knbf.cutoffDistance)\n",
    "knbf.cutoffDistance = 1.0\n",
    "print('cutoff', knbf.cutoffDistance)"
   ]
  },
  {
   "cell_type": "markdown",
   "metadata": {},
   "source": [
    "The difference in the code here again is fairly small, at least for this simple example. Usage of the kapow interface is slightly more clean and compact, but more important is the principle that using get and set methods is considered poor practice in Python (see [here](https://eli.thegreenplace.net/2009/02/06/getters-and-setters-in-python) for a discussion on why). Kapow has taken the methods 'getCutoffDistance' and 'setCutoffDistance' and replaced them with a single property. This is a straightforward case where the get and set methods deal with a single value. Commonly however get and set methods are used to manage access to array elements requiring more sophisticated treatment.\n",
    "\n",
    "In addition to get and set methods, to manage arrays we also need to be able to determine the number of elements of the array and, optionally, have routines to add and remove elements. As an example lets look at particles for the NonbondedForce. In the openmm NonbondedForce we have the below methods:"
   ]
  },
  {
   "cell_type": "code",
   "execution_count": 8,
   "metadata": {},
   "outputs": [
    {
     "data": {
      "text/plain": [
       "<bound method NonbondedForce.setParticleParameters of <simtk.openmm.openmm.NonbondedForce; proxy of <Swig Object of type 'OpenMM::NonbondedForce *' at 0x7f27fbd74a50> >>"
      ]
     },
     "execution_count": 8,
     "metadata": {},
     "output_type": "execute_result"
    }
   ],
   "source": [
    "onbf.getNumParticles\n",
    "onbf.addParticle\n",
    "onbf.getParticleParameters\n",
    "onbf.setParticleParameters"
   ]
  },
  {
   "cell_type": "markdown",
   "metadata": {},
   "source": [
    "This is replaced by a single attribute in the kapow class:"
   ]
  },
  {
   "cell_type": "code",
   "execution_count": 9,
   "metadata": {},
   "outputs": [
    {
     "name": "stdout",
     "output_type": "stream",
     "text": [
      "<Wrapped C-array containing 0 objects>\n"
     ]
    },
    {
     "data": {
      "text/plain": [
       "kapow.wrappers.ArrayWrapper"
      ]
     },
     "execution_count": 9,
     "metadata": {},
     "output_type": "execute_result"
    }
   ],
   "source": [
    "print(knbf.particles)\n",
    "type(knbf.particles)"
   ]
  },
  {
   "cell_type": "markdown",
   "metadata": {},
   "source": [
    "knbf.particles is a custom object provided by Kapow that can be thought of as an extension to the Python property object. In short, it provides an interface which looks and behaves a lot like a Python list but which under the hood is calling the above methods of onbf. A practical example is probably best. Before doing anything interesting we need to add some particles to the NonbondedForce. With the openmm interface:"
   ]
  },
  {
   "cell_type": "code",
   "execution_count": 10,
   "metadata": {},
   "outputs": [
    {
     "data": {
      "text/plain": [
       "0"
      ]
     },
     "execution_count": 10,
     "metadata": {},
     "output_type": "execute_result"
    }
   ],
   "source": [
    "onbf.addParticle(1., 1., 1.)"
   ]
  },
  {
   "cell_type": "markdown",
   "metadata": {},
   "source": [
    "and the equivalent call for kapow:"
   ]
  },
  {
   "cell_type": "code",
   "execution_count": 11,
   "metadata": {},
   "outputs": [
    {
     "data": {
      "text/plain": [
       "1"
      ]
     },
     "execution_count": 11,
     "metadata": {},
     "output_type": "execute_result"
    }
   ],
   "source": [
    "knbf.particles.append((1., 1., 1.))"
   ]
  },
  {
   "cell_type": "markdown",
   "metadata": {},
   "source": [
    "As onbf and knbf are different interfaces for the same object, we should now have two particles. We can check this with:"
   ]
  },
  {
   "cell_type": "code",
   "execution_count": 12,
   "metadata": {},
   "outputs": [
    {
     "name": "stdout",
     "output_type": "stream",
     "text": [
      "2\n",
      "2\n"
     ]
    }
   ],
   "source": [
    "print(onbf.getNumParticles())\n",
    "# vs\n",
    "print(len(knbf.particles))\n"
   ]
  },
  {
   "cell_type": "markdown",
   "metadata": {},
   "source": [
    "Because knbf.particles attempts to behave like a list we can ask for its length. In this case, the \\_\\_len\\_\\_ method of knbf.particles is simply wrapping a call to onbf.getNumparticles(). Intuitively, we can also index knbf.particles:"
   ]
  },
  {
   "cell_type": "code",
   "execution_count": 13,
   "metadata": {},
   "outputs": [
    {
     "name": "stdout",
     "output_type": "stream",
     "text": [
      "Particle(charge=Quantity(value=1.0, unit=elementary charge), sigma=Quantity(value=1.0, unit=nanometer), epsilon=Quantity(value=1.0, unit=kilojoule/mole))\n",
      "<class 'kapow.wrappers.Particle'>\n"
     ]
    }
   ],
   "source": [
    "p = knbf.particles[0]\n",
    "print(p)\n",
    "print(type(p))"
   ]
  },
  {
   "cell_type": "markdown",
   "metadata": {},
   "source": [
    "Now we see something interesting! Compare this with the openmm object."
   ]
  },
  {
   "cell_type": "code",
   "execution_count": 14,
   "metadata": {},
   "outputs": [
    {
     "name": "stdout",
     "output_type": "stream",
     "text": [
      "[Quantity(value=1.0, unit=elementary charge), Quantity(value=1.0, unit=nanometer), Quantity(value=1.0, unit=kilojoule/mole)]\n"
     ]
    }
   ],
   "source": [
    "print(onbf.getParticleParameters(0))"
   ]
  },
  {
   "cell_type": "markdown",
   "metadata": {},
   "source": [
    "Rather than returning a simple list, indexing knbf.particles returns a custom Particle object. The Particle object was constructed automatically based on the parameters of the addParticle method. This helps us by providing a much more informative return value and some other handy features as we'll see shortly. The Particle object is derived from a [namedtuple](https://docs.python.org/2/library/collections.html#collections.namedtuple) so you can always use a tuple (or any iterable) in its place meaning this approach also maintains a good level of flexibility.\n",
    "\n",
    "Now my favorite feature. You can iterate a list, so you can iterate knbf.particles:"
   ]
  },
  {
   "cell_type": "code",
   "execution_count": 15,
   "metadata": {},
   "outputs": [
    {
     "name": "stdout",
     "output_type": "stream",
     "text": [
      "Particle(charge=Quantity(value=1.0, unit=elementary charge), sigma=Quantity(value=1.0, unit=nanometer), epsilon=Quantity(value=1.0, unit=kilojoule/mole))\n",
      "Particle(charge=Quantity(value=1.0, unit=elementary charge), sigma=Quantity(value=1.0, unit=nanometer), epsilon=Quantity(value=1.0, unit=kilojoule/mole))\n"
     ]
    }
   ],
   "source": [
    "for p in knbf.particles:\n",
    "    print(p)"
   ]
  },
  {
   "cell_type": "markdown",
   "metadata": {},
   "source": [
    "The equivalent code for this with the original interface is quite hideous from a pythonic point of view:"
   ]
  },
  {
   "cell_type": "code",
   "execution_count": 16,
   "metadata": {},
   "outputs": [
    {
     "name": "stdout",
     "output_type": "stream",
     "text": [
      "[Quantity(value=1.0, unit=elementary charge), Quantity(value=1.0, unit=nanometer), Quantity(value=1.0, unit=kilojoule/mole)]\n",
      "[Quantity(value=1.0, unit=elementary charge), Quantity(value=1.0, unit=nanometer), Quantity(value=1.0, unit=kilojoule/mole)]\n"
     ]
    }
   ],
   "source": [
    "for i in range(onbf.getNumParticles()):\n",
    "    print(onbf.getParticleParameters(i))"
   ]
  },
  {
   "cell_type": "markdown",
   "metadata": {},
   "source": [
    "Finally, an example combining iteration with the ability to set elements:"
   ]
  },
  {
   "cell_type": "code",
   "execution_count": 17,
   "metadata": {},
   "outputs": [],
   "source": [
    "for i, p in enumerate(knbf.particles):\n",
    "    knbf.particles[i] = p._replace(sigma=2.)"
   ]
  },
  {
   "cell_type": "markdown",
   "metadata": {},
   "source": [
    "Here, \\_replace is a handy method of namedtuples. The equivalent openmm code is much less compact and readable:"
   ]
  },
  {
   "cell_type": "code",
   "execution_count": 18,
   "metadata": {},
   "outputs": [],
   "source": [
    "for i in range(onbf.getNumParticles()):\n",
    "    charge, sigma, epsilon = onbf.getParticleParameters(i)\n",
    "    onbf.setParticleParameters(i, charge, 2., epsilon)"
   ]
  },
  {
   "cell_type": "markdown",
   "metadata": {},
   "source": [
    "ArrayWrappers such as knbf.particles also have detailed help strings that describe the methods that they wrap"
   ]
  },
  {
   "cell_type": "code",
   "execution_count": 19,
   "metadata": {},
   "outputs": [
    {
     "name": "stdout",
     "output_type": "stream",
     "text": [
      "Help on ArrayWrapper in module kapow.wrappers object:\n",
      "\n",
      "class ArrayWrapper(ArrayWrapper)\n",
      " |  This object provides a pythonic interface to an underlying C++ array,\n",
      " |  mimicing the semantics of a list. This object has methods and attributes that\n",
      " |  wrap calls to the openmm base class, <class 'simtk.openmm.openmm.NonbondedForce'>.\n",
      " |  This object can be indexed to call the get and set routines detailed below.\n",
      " |  Where possible, accessed array elements will be provided as a namedtuple\n",
      " |  to give additional information about the underlying data.\n",
      " |  This function may also have append and pop attributes to add or remove\n",
      " |  elements of the array.\n",
      " |  \n",
      " |  This object provides a list-like interface that wraps the below\n",
      " |  function calls from the openmm base class:\n",
      " |  Wrapped length function - getNumParticles\n",
      " |  Wrapped get functions - ['getParticleParameters']\n",
      " |  Wrapped set functions - ['setParticleParameters']\n",
      " |  Wrapped add function  - addParticle\n",
      " |  Wrapped remover function - None\n",
      " |  \n",
      " |  Method resolution order:\n",
      " |      ArrayWrapper\n",
      " |      ArrayWrapper\n",
      " |      BaseWrapper\n",
      " |      builtins.object\n",
      " |  \n",
      " |  Methods defined here:\n",
      " |  \n",
      " |  append(self, val)\n",
      " |      This function acts as a wrapper to a method that adds an element to a\n",
      " |      C++ array. This function expects a single tuple of values that are passed as\n",
      " |      arguments to the function <function NonbondedForce.addParticle at 0x7f28022d9ea0>.\n",
      " |      \n",
      " |      The help string of <function NonbondedForce.addParticle at 0x7f28022d9ea0> is provided below, detailing\n",
      " |      the values that should be given in the tuple passed to this function -\n",
      " |      \n",
      " |      \n",
      " |              addParticle(self, charge, sigma, epsilon) -> int\n",
      " |      \n",
      " |              Add the nonbonded force parameters for a particle. This should be called once for each particle in the System. When it is called for the i'th time, it specifies the parameters for the i'th particle. For calculating the Lennard-Jones interaction between two particles, the arithmetic mean of the sigmas and the geometric mean of the epsilons for the two interacting particles is used (the Lorentz-Berthelot combining rule).\n",
      " |      \n",
      " |              Parameters\n",
      " |              ----------\n",
      " |              charge : double\n",
      " |                  the charge of the particle, measured in units of the proton charge\n",
      " |              sigma : double\n",
      " |                  the sigma parameter of the Lennard-Jones potential (corresponding to the van der Waals radius of the particle), measured in nm\n",
      " |              epsilon : double\n",
      " |                  the epsilon parameter of the Lennard-Jones potential (corresponding to the well depth of the van der Waals interaction), measured in kJ/mol\n",
      " |      \n",
      " |              Returns\n",
      " |              -------\n",
      " |              int\n",
      " |                  the index of the particle that was added\n",
      " |  \n",
      " |  ----------------------------------------------------------------------\n",
      " |  Methods inherited from ArrayWrapper:\n",
      " |  \n",
      " |  __get__(self, obj, objtype=None)\n",
      " |  \n",
      " |  __getitem__ = wrapper(*args, **kwargs)\n",
      " |  \n",
      " |  __init__(self, base, len_, getters, setters=[], adder=None, remover=None, member_wrapper=None)\n",
      " |      Initialize self.  See help(type(self)) for accurate signature.\n",
      " |  \n",
      " |  __iter__(self)\n",
      " |  \n",
      " |  __len__(self)\n",
      " |  \n",
      " |  __repr__(self)\n",
      " |      Return repr(self).\n",
      " |  \n",
      " |  __set__(self, *args)\n",
      " |  \n",
      " |  __setitem__(self, val, args)\n",
      " |  \n",
      " |  ----------------------------------------------------------------------\n",
      " |  Methods inherited from BaseWrapper:\n",
      " |  \n",
      " |  default_adder(self, *args, **kwargs)\n",
      " |  \n",
      " |  default_member_wrapper(self, *args, **kwargs)\n",
      " |  \n",
      " |  default_remover(self, *args, **kwargs)\n",
      " |  \n",
      " |  default_setter(self, *args, **kwargs)\n",
      " |  \n",
      " |  ----------------------------------------------------------------------\n",
      " |  Data descriptors inherited from BaseWrapper:\n",
      " |  \n",
      " |  __dict__\n",
      " |      dictionary for instance variables (if defined)\n",
      " |  \n",
      " |  __weakref__\n",
      " |      list of weak references to the object (if defined)\n",
      "\n"
     ]
    }
   ],
   "source": [
    "help(knbf.particles)"
   ]
  },
  {
   "cell_type": "markdown",
   "metadata": {},
   "source": [
    "In addition to ArrayWrappers, another core piece of functionality from the kapow module is the DictWrapper. ArrayWrappers allow a neat way to simpify underlying C++ structures that support indexing. DictWrappers expand this to include key-value pair data structures. This is particularly useful for classes using names for attributes. Consider the below code to examine the default global variables for an AMDIntegrator with openmm:"
   ]
  },
  {
   "cell_type": "code",
   "execution_count": 20,
   "metadata": {},
   "outputs": [
    {
     "name": "stdout",
     "output_type": "stream",
     "text": [
      "alpha 0.0\n",
      "E 0.0\n"
     ]
    }
   ],
   "source": [
    "amd = openmm.AMDIntegrator(0., 0, 0)\n",
    "for i in range(amd.getNumGlobalVariables()):\n",
    "    print(amd.getGlobalVariableName(i), amd.getGlobalVariable(i))"
   ]
  },
  {
   "cell_type": "markdown",
   "metadata": {},
   "source": [
    "Each global variable has a name but getting hold of that name and the value that goes along with it is rather laborious. In the kapow module these are instead treated as key-value pairs in a dictionary-like interface:"
   ]
  },
  {
   "cell_type": "code",
   "execution_count": 21,
   "metadata": {},
   "outputs": [
    {
     "name": "stdout",
     "output_type": "stream",
     "text": [
      "(('alpha', 0.0), ('E', 0.0))\n"
     ]
    }
   ],
   "source": [
    "amd = kapow.AMDIntegrator(0., 0., 0)\n",
    "print(amd.globalVariables.items())"
   ]
  }
 ],
 "metadata": {
  "kernelspec": {
   "display_name": "Python 3",
   "language": "python",
   "name": "python3"
  },
  "language_info": {
   "codemirror_mode": {
    "name": "ipython",
    "version": 3
   },
   "file_extension": ".py",
   "mimetype": "text/x-python",
   "name": "python",
   "nbconvert_exporter": "python",
   "pygments_lexer": "ipython3",
   "version": "3.6.4"
  }
 },
 "nbformat": 4,
 "nbformat_minor": 2
}
